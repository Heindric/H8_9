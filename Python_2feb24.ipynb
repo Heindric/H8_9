{
 "cells": [
  {
   "cell_type": "code",
   "execution_count": 1,
   "id": "8adf9b25",
   "metadata": {},
   "outputs": [
    {
     "name": "stdout",
     "output_type": "stream",
     "text": [
      "123123123123123123123123123123123123123123123124\n"
     ]
    }
   ],
   "source": [
    "print(123123123123123123123123123123123123123123123123 + 1)"
   ]
  },
  {
   "cell_type": "code",
   "execution_count": 2,
   "id": "47b71a11",
   "metadata": {},
   "outputs": [
    {
     "name": "stdout",
     "output_type": "stream",
     "text": [
      "10\n",
      "<class 'int'>\n"
     ]
    }
   ],
   "source": [
    "print(10)\n",
    "print(type(10))"
   ]
  },
  {
   "cell_type": "code",
   "execution_count": 3,
   "id": "6b7a62e4",
   "metadata": {},
   "outputs": [
    {
     "name": "stdout",
     "output_type": "stream",
     "text": [
      "4.2\n",
      "<class 'float'>\n",
      "4.0\n",
      "0.2\n",
      "4000000.0\n",
      "0.00042\n"
     ]
    }
   ],
   "source": [
    "print(4.2)\n",
    "print(type(4.2))\n",
    "\n",
    "print(4.)\n",
    "\n",
    "print(.2)\n",
    "\n",
    "print(.4e7)\n",
    "\n",
    "print(4.2e-4)"
   ]
  },
  {
   "cell_type": "code",
   "execution_count": 4,
   "id": "0c7bb819",
   "metadata": {},
   "outputs": [],
   "source": [
    "n=300"
   ]
  },
  {
   "cell_type": "code",
   "execution_count": 5,
   "id": "78d240ab",
   "metadata": {},
   "outputs": [
    {
     "name": "stdout",
     "output_type": "stream",
     "text": [
      "300\n"
     ]
    }
   ],
   "source": [
    "print(n)"
   ]
  },
  {
   "cell_type": "code",
   "execution_count": 6,
   "id": "d13f87b8",
   "metadata": {},
   "outputs": [
    {
     "data": {
      "text/plain": [
       "300"
      ]
     },
     "execution_count": 6,
     "metadata": {},
     "output_type": "execute_result"
    }
   ],
   "source": [
    "n"
   ]
  },
  {
   "cell_type": "code",
   "execution_count": 7,
   "id": "d6a36769",
   "metadata": {},
   "outputs": [
    {
     "data": {
      "text/plain": [
       "300"
      ]
     },
     "execution_count": 7,
     "metadata": {},
     "output_type": "execute_result"
    }
   ],
   "source": [
    "300"
   ]
  },
  {
   "cell_type": "code",
   "execution_count": 8,
   "id": "f4f4f945",
   "metadata": {},
   "outputs": [
    {
     "name": "stdout",
     "output_type": "stream",
     "text": [
      "1000\n"
     ]
    }
   ],
   "source": [
    "n=1000\n",
    "print(n)"
   ]
  },
  {
   "cell_type": "code",
   "execution_count": 9,
   "id": "052d448e",
   "metadata": {},
   "outputs": [
    {
     "name": "stdout",
     "output_type": "stream",
     "text": [
      "300 300 300\n"
     ]
    }
   ],
   "source": [
    "a = b = c = 300\n",
    "print(a, b, c)"
   ]
  },
  {
   "cell_type": "code",
   "execution_count": 12,
   "id": "964b43b9",
   "metadata": {},
   "outputs": [
    {
     "name": "stdout",
     "output_type": "stream",
     "text": [
      "True\n",
      "False\n"
     ]
    }
   ],
   "source": [
    "s = 'goo'\n",
    "\n",
    "print(s in 'That food for us goose')\n",
    "\n",
    "print(s in 'That god for us')"
   ]
  },
  {
   "cell_type": "code",
   "execution_count": 1,
   "id": "5c79fc02",
   "metadata": {},
   "outputs": [
    {
     "ename": "SyntaxError",
     "evalue": "expected ':' (3257673685.py, line 4)",
     "output_type": "error",
     "traceback": [
      "\u001b[1;36m  Cell \u001b[1;32mIn[1], line 4\u001b[1;36m\u001b[0m\n\u001b[1;33m    if(a>c)\u001b[0m\n\u001b[1;37m           ^\u001b[0m\n\u001b[1;31mSyntaxError\u001b[0m\u001b[1;31m:\u001b[0m expected ':'\n"
     ]
    }
   ],
   "source": [
    "a=2\n",
    "b=3\n",
    "c=1\n",
    "if(a>c)\n",
    "    print(a)\n",
    "elif(a<c)\n",
    "    print(\"betul\")\n",
    "    "
   ]
  },
  {
   "cell_type": "code",
   "execution_count": 2,
   "id": "702049b8",
   "metadata": {},
   "outputs": [
    {
     "name": "stdout",
     "output_type": "stream",
     "text": [
      "2\n"
     ]
    }
   ],
   "source": [
    "a=2\n",
    "b=3\n",
    "c=1\n",
    "if(a>c):\n",
    "    print(a)\n",
    "elif(a<c):\n",
    "    print(\"betul\")"
   ]
  },
  {
   "cell_type": "code",
   "execution_count": 3,
   "id": "99babe18",
   "metadata": {},
   "outputs": [
    {
     "ename": "SyntaxError",
     "evalue": "invalid syntax (4148068670.py, line 4)",
     "output_type": "error",
     "traceback": [
      "\u001b[1;36m  Cell \u001b[1;32mIn[3], line 4\u001b[1;36m\u001b[0m\n\u001b[1;33m    print(A>B || a>c)\u001b[0m\n\u001b[1;37m               ^\u001b[0m\n\u001b[1;31mSyntaxError\u001b[0m\u001b[1;31m:\u001b[0m invalid syntax\n"
     ]
    }
   ],
   "source": [
    "a=2\n",
    "b=3\n",
    "c=1\n",
    "print(A>B || a>c)"
   ]
  },
  {
   "cell_type": "code",
   "execution_count": 4,
   "id": "26acb351",
   "metadata": {},
   "outputs": [
    {
     "ename": "NameError",
     "evalue": "name 'A' is not defined",
     "output_type": "error",
     "traceback": [
      "\u001b[1;31m---------------------------------------------------------------------------\u001b[0m",
      "\u001b[1;31mNameError\u001b[0m                                 Traceback (most recent call last)",
      "Cell \u001b[1;32mIn[4], line 4\u001b[0m\n\u001b[0;32m      2\u001b[0m b\u001b[38;5;241m=\u001b[39m\u001b[38;5;241m3\u001b[39m\n\u001b[0;32m      3\u001b[0m c\u001b[38;5;241m=\u001b[39m\u001b[38;5;241m1\u001b[39m\n\u001b[1;32m----> 4\u001b[0m \u001b[38;5;28mprint\u001b[39m(A\u001b[38;5;241m>\u001b[39mB \u001b[38;5;129;01mor\u001b[39;00m a\u001b[38;5;241m>\u001b[39mc)\n",
      "\u001b[1;31mNameError\u001b[0m: name 'A' is not defined"
     ]
    }
   ],
   "source": [
    "a=2\n",
    "b=3\n",
    "c=1\n",
    "print(A>B or a>c)"
   ]
  },
  {
   "cell_type": "code",
   "execution_count": 5,
   "id": "af52a601",
   "metadata": {},
   "outputs": [
    {
     "name": "stdout",
     "output_type": "stream",
     "text": [
      "True\n"
     ]
    }
   ],
   "source": [
    "a=2\n",
    "b=3\n",
    "c=1\n",
    "print(a>c or a>c)"
   ]
  },
  {
   "cell_type": "code",
   "execution_count": 6,
   "id": "034671eb",
   "metadata": {},
   "outputs": [
    {
     "name": "stdout",
     "output_type": "stream",
     "text": [
      "enggak\n"
     ]
    }
   ],
   "source": [
    "a=2\n",
    "b=3\n",
    "c=1\n",
    "if(a>b and a>c):\n",
    "    print(\"tampil\")\n",
    "else:\n",
    "    print(\"enggak\")"
   ]
  },
  {
   "cell_type": "code",
   "execution_count": 7,
   "id": "92723e3e",
   "metadata": {},
   "outputs": [
    {
     "name": "stdout",
     "output_type": "stream",
     "text": [
      "saya pergi karena banjir\n"
     ]
    }
   ],
   "source": [
    "sistem = [\"saya\", \"pergi\", \"ke\",\"LPPI\", \"kemang\" ]\n",
    "engineer= [\"tidak\", \"jalan\", \"karena\", \"banjir\"]\n",
    "print(sistem[0],sistem[1],engineer[2],engineer[3])"
   ]
  },
  {
   "cell_type": "code",
   "execution_count": 8,
   "id": "7d94925b",
   "metadata": {},
   "outputs": [
    {
     "name": "stdout",
     "output_type": "stream",
     "text": [
      "saya tidak pergi karena banjir\n"
     ]
    }
   ],
   "source": [
    "sistem = [\"saya\", \"pergi\", \"ke\",\"LPPI\", \"kemang\" ]\n",
    "engineer= [\"tidak\", \"jalan\", \"karena\", \"banjir\"]\n",
    "print(sistem[0],engineer[0],sistem[1],engineer[2],engineer[3])"
   ]
  },
  {
   "cell_type": "code",
   "execution_count": 11,
   "id": "69fcb952",
   "metadata": {},
   "outputs": [
    {
     "name": "stdout",
     "output_type": "stream",
     "text": [
      "saya tetap pergi karena banjir\n"
     ]
    }
   ],
   "source": [
    "sistem = [\"saya\", \"pergi\", \"ke\",\"LPPI\", \"kemang\" ]\n",
    "engineer= [\"tidak\", \"jalan\", \"karena\", \"banjir\"]\n",
    "engineer[0]=\"tetap\"\n",
    "print(sistem[0],engineer[0],sistem[1],engineer[2],engineer[3])"
   ]
  },
  {
   "cell_type": "code",
   "execution_count": 12,
   "id": "e1db87a7",
   "metadata": {},
   "outputs": [],
   "source": [
    "a=6\n",
    "b=7\n",
    "c=8\n",
    "if (c>a):\n",
    "    if(b>c):\n",
    "        print(\"true\")\n",
    "else: \n",
    "    print(false)"
   ]
  },
  {
   "cell_type": "code",
   "execution_count": 13,
   "id": "38071c4c",
   "metadata": {},
   "outputs": [
    {
     "name": "stdout",
     "output_type": "stream",
     "text": [
      "true\n"
     ]
    }
   ],
   "source": [
    "a=6\n",
    "b=7\n",
    "c=8\n",
    "if (c>a):\n",
    "    print(\"true\")\n",
    "else: \n",
    "    print(false)"
   ]
  },
  {
   "cell_type": "code",
   "execution_count": 14,
   "id": "f2767e3f",
   "metadata": {},
   "outputs": [
    {
     "ename": "IndentationError",
     "evalue": "expected an indented block after 'if' statement on line 5 (3708348631.py, line 6)",
     "output_type": "error",
     "traceback": [
      "\u001b[1;36m  Cell \u001b[1;32mIn[14], line 6\u001b[1;36m\u001b[0m\n\u001b[1;33m    print(\"true\")\u001b[0m\n\u001b[1;37m    ^\u001b[0m\n\u001b[1;31mIndentationError\u001b[0m\u001b[1;31m:\u001b[0m expected an indented block after 'if' statement on line 5\n"
     ]
    }
   ],
   "source": [
    "a=6\n",
    "b=7\n",
    "c=8\n",
    "if (c>a):\n",
    "    if(b>c):\n",
    "    print(\"true\")\n",
    "else: \n",
    "    print(false)"
   ]
  },
  {
   "cell_type": "code",
   "execution_count": 15,
   "id": "ed95876d",
   "metadata": {},
   "outputs": [],
   "source": [
    "a=6\n",
    "b=7\n",
    "c=8\n",
    "if c>a:\n",
    "    if b>c:\n",
    "        print(\"true\")\n",
    "else: \n",
    "    print(false)"
   ]
  },
  {
   "cell_type": "code",
   "execution_count": 19,
   "id": "a6fe4282",
   "metadata": {},
   "outputs": [
    {
     "name": "stdout",
     "output_type": "stream",
     "text": [
      "false\n"
     ]
    }
   ],
   "source": [
    "a=6\n",
    "b=7\n",
    "c=8\n",
    "if c>a:\n",
    "    if b>c:\n",
    "        print(\"true\")\n",
    "    else: \n",
    "        print(\"false\")"
   ]
  },
  {
   "cell_type": "code",
   "execution_count": 32,
   "id": "7f1bfae4",
   "metadata": {},
   "outputs": [
    {
     "name": "stdout",
     "output_type": "stream",
     "text": [
      "nama1 lulus\n",
      "nama2 gagal\n",
      "nama3 gagal\n",
      "nama4 lulus\n",
      "nama5 lulus\n"
     ]
    }
   ],
   "source": [
    "nama=[\"nama1\",\"nama2\", \"nama3\",\"nama4\",\"nama5\"]\n",
    "nilaiA=[80,55,80,75,90]\n",
    "nilaiB=[70,90,60,70,80]\n",
    "\n",
    "for x in range(5):\n",
    "    if nilaiA[x]>60 and nilaiB[x]>60 :\n",
    "        print(nama[x],\"lulus\")\n",
    "    else:\n",
    "        print(nama[x],\"gagal\")"
   ]
  },
  {
   "cell_type": "raw",
   "id": "7e78618a",
   "metadata": {},
   "source": []
  },
  {
   "cell_type": "code",
   "execution_count": 41,
   "id": "83b74010",
   "metadata": {},
   "outputs": [
    {
     "name": "stdout",
     "output_type": "stream",
     "text": [
      "input:bejo\n",
      "hobby:rokok\n",
      "email:bejo@mail\n",
      "telepon094906u\n",
      "nilai:58\n",
      "ur username:bejo\n",
      "ur hobby:rokok\n",
      "ur email:bejo@mail\n",
      "urtelepon:094906u\n",
      "nilai anda: 58\n",
      "status: gagal\n"
     ]
    }
   ],
   "source": [
    "nama=input(\"nama:\")\n",
    "hobby=input(\"hobby:\")\n",
    "email=input(\"email:\")\n",
    "telepon=input(\"telepon\")\n",
    "nilai=int(input(\"nilai:\"))\n",
    "\n",
    "\n",
    "print(\"ur username:\" + nama )\n",
    "print(\"ur hobby:\" + hobby )\n",
    "print(\"ur email:\" + email )\n",
    "print(\"urtelepon:\" + telepon )\n",
    "print(\"nilai anda:\", nilai)\n",
    "\n",
    "if nilai<60:\n",
    "    print(\"status: gagal\")\n",
    "else:\n",
    "    print(\"status: Lulus\")"
   ]
  },
  {
   "cell_type": "code",
   "execution_count": 43,
   "id": "a1a70079",
   "metadata": {},
   "outputs": [],
   "source": [
    "def num_converter(num):\n",
    "    binary = bin(num)  # Convert to binary\n",
    "    octal = oct(num)  # Convert to octal\n",
    "    hex_num = hex(num)  # Convert to hex\n",
    "    return binary, octal, hex_num"
   ]
  },
  {
   "cell_type": "code",
   "execution_count": 46,
   "id": "37f7f9ff",
   "metadata": {},
   "outputs": [
    {
     "name": "stdout",
     "output_type": "stream",
     "text": [
      "Enter a decimal number: 50\n",
      "** Conversions **\n",
      "Decimal to Binary: 50 -> 0b110010\n",
      "Decimal to Octal: 50 -> 0o62\n",
      "Decimal to Hexadecimal: 50 -> 32\n"
     ]
    }
   ],
   "source": [
    "decimal_num = int(input(\"Enter a decimal number: \"))\n",
    "\n",
    "binary_result, octal_result, hex_result = num_converter(decimal_num)\n",
    "\n",
    "print(\"** Conversions **\")\n",
    "print(f\"Decimal to Binary: {decimal_num} -> {binary_result}\")\n",
    "print(f\"Decimal to Octal: {decimal_num} -> {octal_result}\")\n",
    "print(f\"Decimal to Hexadecimal: {decimal_num} -> {str( hex_result )[2:]}\")  # remove leading '0x'"
   ]
  },
  {
   "cell_type": "code",
   "execution_count": null,
   "id": "588724ba",
   "metadata": {},
   "outputs": [],
   "source": []
  },
  {
   "cell_type": "code",
   "execution_count": 1,
   "id": "730f641f",
   "metadata": {},
   "outputs": [
    {
     "name": "stdout",
     "output_type": "stream",
     "text": [
      "[12]\n",
      "[12, 13]\n",
      "[12, 13, 14]\n",
      "[12, 13, 14, 15]\n",
      "[12, 13, 14, 15]\n"
     ]
    }
   ],
   "source": [
    "s=12\n",
    "arr=[]\n",
    "while s<18 :\n",
    "    if s<16:\n",
    "        arr.append(s)\n",
    "        \n",
    "        print (arr)\n",
    "    else:\n",
    "        print(arr)\n",
    "        break\n",
    "    s+=1"
   ]
  },
  {
   "cell_type": "code",
   "execution_count": 5,
   "id": "faad2023",
   "metadata": {},
   "outputs": [
    {
     "name": "stdout",
     "output_type": "stream",
     "text": [
      "[12, 13, 14, 15] selesai\n",
      "S= 19\n"
     ]
    }
   ],
   "source": [
    "s=12\n",
    "arr=[]\n",
    "while s<20 :\n",
    "    if s<16:\n",
    "        arr.append(s)\n",
    "        \n",
    "        \n",
    "    elif s>18:\n",
    "        print(arr, \"selesai\")\n",
    "        print(\"S=\",s)\n",
    "        break\n",
    "    s+=1\n"
   ]
  },
  {
   "cell_type": "code",
   "execution_count": 1,
   "id": "c4f4a1a0",
   "metadata": {},
   "outputs": [
    {
     "name": "stdout",
     "output_type": "stream",
     "text": [
      "false\n"
     ]
    }
   ],
   "source": []
  },
  {
   "cell_type": "code",
   "execution_count": null,
   "id": "ae288551",
   "metadata": {},
   "outputs": [],
   "source": []
  },
  {
   "cell_type": "code",
   "execution_count": null,
   "id": "fd4aa247",
   "metadata": {},
   "outputs": [],
   "source": []
  }
 ],
 "metadata": {
  "kernelspec": {
   "display_name": "Python 3 (ipykernel)",
   "language": "python",
   "name": "python3"
  },
  "language_info": {
   "codemirror_mode": {
    "name": "ipython",
    "version": 3
   },
   "file_extension": ".py",
   "mimetype": "text/x-python",
   "name": "python",
   "nbconvert_exporter": "python",
   "pygments_lexer": "ipython3",
   "version": "3.11.5"
  }
 },
 "nbformat": 4,
 "nbformat_minor": 5
}
