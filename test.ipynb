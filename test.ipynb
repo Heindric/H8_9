{
 "cells": [
  {
   "cell_type": "code",
   "execution_count": 1,
   "metadata": {},
   "outputs": [
    {
     "name": "stdout",
     "output_type": "stream",
     "text": [
      "       0         1             2                   3\n",
      "0      1  PENELOPE       GUINESS 2006-02-15 04:34:33\n",
      "1      2      NICK      WAHLBERG 2006-02-15 04:34:33\n",
      "2      3        ED         CHASE 2006-02-15 04:34:33\n",
      "3      4  JENNIFER         DAVIS 2006-02-15 04:34:33\n",
      "4      5    JOHNNY  LOLLOBRIGIDA 2006-02-15 04:34:33\n",
      "..   ...       ...           ...                 ...\n",
      "195  196      BELA        WALKEN 2006-02-15 04:34:33\n",
      "196  197     REESE          WEST 2006-02-15 04:34:33\n",
      "197  198      MARY        KEITEL 2006-02-15 04:34:33\n",
      "198  199     JULIA       FAWCETT 2006-02-15 04:34:33\n",
      "199  200     THORA        TEMPLE 2006-02-15 04:34:33\n",
      "\n",
      "[200 rows x 4 columns]\n"
     ]
    },
    {
     "name": "stderr",
     "output_type": "stream",
     "text": [
      "C:\\Users\\heind\\AppData\\Local\\Temp\\ipykernel_21044\\3608723168.py:2: DeprecationWarning: \n",
      "Pyarrow will become a required dependency of pandas in the next major release of pandas (pandas 3.0),\n",
      "(to allow more performant data types, such as the Arrow string type, and better interoperability with other libraries)\n",
      "but was not found to be installed on your system.\n",
      "If this would cause problems for you,\n",
      "please provide us feedback at https://github.com/pandas-dev/pandas/issues/54466\n",
      "        \n",
      "  import pandas as pd\n"
     ]
    }
   ],
   "source": [
    "import mysql.connector\n",
    "import pandas as pd\n",
    "\n",
    "mydb = mysql.connector.connect(\n",
    "host=\"localhost\",\n",
    "user=\"root\",\n",
    "password=\"root\",\n",
    "database=\"sakila\"\n",
    ")\n",
    "mycursor = mydb.cursor()\n",
    "mycursor.execute(\"select * from actor;\")\n",
    "myresult = mycursor.fetchall()\n",
    "df = pd.DataFrame(myresult)\n",
    "print(df)\n"
   ]
  },
  {
   "cell_type": "code",
   "execution_count": 6,
   "metadata": {},
   "outputs": [
    {
     "name": "stdout",
     "output_type": "stream",
     "text": [
      "   0                  1        2       3   4\n",
      "0  1       Harry Potter  FT-1234  100.00  10\n",
      "1  2      Perahu Kertas  FT-1235  100.00   3\n",
      "2  3  Malam Minggu Miko  FT-1236  100.00   8\n",
      "3  4      Salmon Goreng  FT-1237  100.00   7\n"
     ]
    }
   ],
   "source": [
    "import mysql.connector\n",
    "import pandas as pd\n",
    "\n",
    "mydb = mysql.connector.connect(\n",
    "host=\"localhost\",\n",
    "user=\"root\",\n",
    "password=\"root\",\n",
    "database=\"customer\"\n",
    ")\n",
    "mycursor = mydb.cursor()\n",
    "mycursor.execute(\"select * from books;\")\n",
    "myresult = mycursor.fetchall()\n",
    "df = pd.DataFrame(myresult)\n",
    "print(df)"
   ]
  },
  {
   "cell_type": "code",
   "execution_count": null,
   "metadata": {},
   "outputs": [],
   "source": []
  },
  {
   "cell_type": "code",
   "execution_count": 7,
   "metadata": {},
   "outputs": [
    {
     "name": "stdout",
     "output_type": "stream",
     "text": [
      "1 was inserted.\n"
     ]
    }
   ],
   "source": [
    "sql = \"INSERT INTO books (title, isbn, stock) VALUES (%s, %s,%s)\"\n",
    "val = [\n",
    "  ('beruang kutub', 'bg1234', 15)\n",
    "]\n",
    "\n",
    "mycursor.executemany(sql, val)\n",
    "\n",
    "mydb.commit()\n",
    "\n",
    "print(mycursor.rowcount, \"was inserted.\")"
   ]
  },
  {
   "cell_type": "code",
   "execution_count": 8,
   "metadata": {},
   "outputs": [
    {
     "name": "stdout",
     "output_type": "stream",
     "text": [
      "1 record(s) affected\n"
     ]
    }
   ],
   "source": [
    "sql = \"UPDATE books SET stock = 10 WHERE title = 'beruang kutub'\"\n",
    "\n",
    "mycursor.execute(sql)\n",
    "\n",
    "mydb.commit()\n",
    "\n",
    "print(mycursor.rowcount, \"record(s) affected\")"
   ]
  },
  {
   "cell_type": "code",
   "execution_count": 9,
   "metadata": {},
   "outputs": [
    {
     "name": "stdout",
     "output_type": "stream",
     "text": [
      "1 record(s) deleted\n"
     ]
    }
   ],
   "source": [
    "sql = \"DELETE FROM books WHERE title = 'beruang kutub'\"\n",
    "\n",
    "mycursor.execute(sql)\n",
    "\n",
    "mydb.commit()\n",
    "\n",
    "print(mycursor.rowcount, \"record(s) deleted\")"
   ]
  },
  {
   "cell_type": "code",
   "execution_count": 10,
   "metadata": {},
   "outputs": [
    {
     "data": {
      "text/plain": [
       "0     int64\n",
       "1    object\n",
       "2    object\n",
       "3    object\n",
       "4     int64\n",
       "dtype: object"
      ]
     },
     "execution_count": 10,
     "metadata": {},
     "output_type": "execute_result"
    }
   ],
   "source": [
    "df.dtypes"
   ]
  },
  {
   "cell_type": "code",
   "execution_count": 11,
   "metadata": {},
   "outputs": [
    {
     "name": "stdout",
     "output_type": "stream",
     "text": [
      "             0\n",
      "0     SCARLETT\n",
      "1      MICHAEL\n",
      "2       VIVIEN\n",
      "3         LIZA\n",
      "4         KARL\n",
      "5        HENRY\n",
      "6  CHRISTOPHER\n"
     ]
    }
   ],
   "source": [
    "import mysql.connector\n",
    "import pandas as pd\n",
    "\n",
    "mydb = mysql.connector.connect(\n",
    "host=\"localhost\",\n",
    "user=\"root\",\n",
    "password=\"root\",\n",
    "database=\"sakila\"\n",
    ")\n",
    "mycursor = mydb.cursor()\n",
    "mycursor.execute(\"select first_name from actor where last_name like 'be%';\")\n",
    "\n",
    "myresult = mycursor.fetchall()\n",
    "df = pd.DataFrame(myresult)\n",
    "print(df)\n"
   ]
  },
  {
   "cell_type": "code",
   "execution_count": 20,
   "metadata": {},
   "outputs": [
    {
     "name": "stdout",
     "output_type": "stream",
     "text": [
      "                                    0                        1\n",
      "0                939 Probolinggo Loop     A Coruña (La Coruña)\n",
      "1               733 Mandaluyong Place                     Abha\n",
      "2                535 Ahmadnagar Manor                Abu Dhabi\n",
      "3            1789 Saint-Denis Parkway                    Acuña\n",
      "4            663 Bahía Blanca Parkway                    Adana\n",
      "5                 614 Pak Kret Street              Addis Abeba\n",
      "6                       751 Lima Loop                     Aden\n",
      "7                     230 Urawa Drive                    Adoni\n",
      "8                 922 Vila Velha Loop               Ahmadnagar\n",
      "9               923 Tangail Boulevard                 Akishima\n",
      "10             98 Pyongyang Boulevard                    Akron\n",
      "11                 669 Firozabad Loop                   al-Ayn\n",
      "12            1124 Buenaventura Drive                al-Hawiya\n",
      "13             1759 Niznekamsk Avenue                al-Manama\n",
      "14          1152 Citrus Heights Manor               al-Qadarif\n",
      "15              289 Santo André Manor                 al-Qatif\n",
      "16          127 Purnea (Purnia) Manor              Alessandria\n",
      "17               431 Xi´angtan Avenue    Allappuzha (Alleppey)\n",
      "18               397 Sunnyvale Avenue                  Allende\n",
      "19               1623 Kingstown Drive          Almirante Brown\n",
      "20         1407 Pachuca de Soto Place                 Alvorada\n",
      "21                    1014 Loja Manor                 Ambattur\n",
      "22                992 Klerksdorp Loop               Amersfoort\n",
      "23                   949 Allende Lane                   Amroha\n",
      "24                 1354 Siegen Street           Angra dos Reis\n",
      "25                  356 Olomouc Manor                 Anápolis\n",
      "26               1718 Valencia Street              Antofagasta\n",
      "27                 1201 Qomsheh Manor     Aparecida de Goiânia\n",
      "28                  1749 Daxian Place                Apeldoorn\n",
      "29                      1692 Ede Loop                Araçatuba\n",
      "30          334 Munger (Monghyr) Lane                     Arak\n",
      "31                 1009 Zanzibar Lane                  Arecibo\n",
      "32   913 Coacalco de Berriozábal Loop                Arlington\n",
      "33                    659 Vaduz Drive                   Ashdod\n",
      "34               387 Mwene-Ditu Drive                 Ashgabat\n",
      "35      632 Usolje-Sibirskoje Parkway                 Ashqelon\n",
      "36               201 Effon-Alaiye Way                 Asunción\n",
      "37                  692 Joliet Street                  Athenai\n",
      "38                 616 Hagonoy Avenue                  Atšinsk\n",
      "39   125 Città del Vaticano Boulevard                  Atlixco\n",
      "40                   1308 Arecibo Way  Augusta-Richmond County\n",
      "41                 587 Benguela Manor                   Aurora\n",
      "42                   43 Vilnius Manor                   Aurora\n",
      "43      1229 Varanasi (Benares) Manor               Avellaneda\n",
      "44                       1190 0 Place                     Bagé\n",
      "45    1427 A Coruña (La Coruña) Place             Bahía Blanca\n",
      "46                183 Haiphong Street                 Baicheng\n",
      "47                    362 Rajkot Lane                   Baiyin\n",
      "48          431 Székesfehérvár Avenue                     Baku\n",
      "49  1697 Kowloon and New Kowloon Loop                 Balašiha\n",
      "50                1912 Emeishan Drive                Balikesir\n",
      "51               624 Oshawa Boulevard                Balurghat\n",
      "52                1641 Changhwa Place                  Bamenda\n",
      "53                1370 Le Mans Avenue      Bandar Seri Begawan\n",
      "54                 247 Jining Parkway                   Banjul\n",
      "55        502 Mandi Bahauddin Parkway                Barcelona\n",
      "56                    915 Ponce Place                    Basel\n",
      "57          1542 Lubumbashi Boulevard                  Bat Yam\n",
      "58                  29 Pyongyang Loop                   Batman\n",
      "59             1924 Shimonoseki Drive                    Batna\n"
     ]
    }
   ],
   "source": [
    "import mysql.connector\n",
    "import pandas as pd\n",
    "\n",
    "mydb = mysql.connector.connect(\n",
    "host=\"localhost\",\n",
    "user=\"root\",\n",
    "password=\"root\",\n",
    "database=\"sakila\"\n",
    ")\n",
    "\n",
    "\n",
    "mycursor = mydb.cursor()\n",
    "mycursor.execute(\"select a.address, b.city from address a inner join city b on a.city_id=b.city_id where b.city_id<60 \")\n",
    "    \n",
    "\n",
    "myresult = mycursor.fetchall()\n",
    "df = pd.DataFrame(myresult)\n",
    "print(df)\n"
   ]
  }
 ],
 "metadata": {
  "kernelspec": {
   "display_name": "Python 3",
   "language": "python",
   "name": "python3"
  },
  "language_info": {
   "codemirror_mode": {
    "name": "ipython",
    "version": 3
   },
   "file_extension": ".py",
   "mimetype": "text/x-python",
   "name": "python",
   "nbconvert_exporter": "python",
   "pygments_lexer": "ipython3",
   "version": "3.11.5"
  }
 },
 "nbformat": 4,
 "nbformat_minor": 2
}
